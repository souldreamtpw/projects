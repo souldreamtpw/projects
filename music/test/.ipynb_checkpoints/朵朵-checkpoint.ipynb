{
 "cells": [
  {
   "cell_type": "code",
   "execution_count": 14,
   "metadata": {},
   "outputs": [],
   "source": [
    "import lxml.etree as et\n",
    "import lxml\n",
    "import requests as re\n",
    "import pymysql"
   ]
  },
  {
   "cell_type": "code",
   "execution_count": 15,
   "metadata": {},
   "outputs": [],
   "source": [
    "url = 'https://y.qq.com/n/ryqq/toplist/62'"
   ]
  },
  {
   "cell_type": "code",
   "execution_count": 16,
   "metadata": {},
   "outputs": [],
   "source": [
    "def fetch(url):\n",
    "    # 请求并下载网页\n",
    "    res = re.get(url)\n",
    "    if res.status_code != 200:\n",
    "        res.raise_for_status()\n",
    "    else:\n",
    "        return res.text"
   ]
  },
  {
   "cell_type": "code",
   "execution_count": 17,
   "metadata": {},
   "outputs": [],
   "source": [
    "# 1. 请求入口页面\n",
    "selector = et.HTML(fetch(url))"
   ]
  },
  {
   "cell_type": "code",
   "execution_count": 24,
   "metadata": {},
   "outputs": [],
   "source": [
    "music = selector.xpath('//*[@id=\"app\"]/div/div[2]/div[2]/div[3]/ul[2]/li/div/div[3]/span/a[2]/text()')\n",
    "song = selector.xpath('//*[@id=\"app\"]/div/div[2]/div[2]/div[3]/ul[2]/li/div/div[4]/a/text()')\n",
    "judge = selector.xpath('//*[@id=\"app\"]/div/div[2]/div[2]/div[3]/ul[2]/li/div/div[4]/text()')"
   ]
  },
  {
   "cell_type": "code",
   "execution_count": 29,
   "metadata": {},
   "outputs": [],
   "source": [
    "music_list = []\n",
    "song_list = []"
   ]
  },
  {
   "cell_type": "code",
   "execution_count": 37,
   "metadata": {},
   "outputs": [
    {
     "name": "stdout",
     "output_type": "stream",
     "text": [
      "['周杰伦']\n",
      "['阿梨粤']\n",
      "['周杰伦']\n",
      "['王源']\n",
      "['刘惜君', '王赫野']\n",
      "['王赫野']\n",
      "['Gentle Bones', '林俊杰']\n",
      "['孝琳 (효린)']\n",
      "['王天阳']\n",
      "['胡彦斌', '张碧晨']\n"
     ]
    }
   ],
   "source": [
    "for i in range(10):\n",
    "    music = selector.xpath('//*[@id=\"app\"]/div/div[2]/div[2]/div[3]/ul[2]/li[{}]/div/div[3]/span/a[2]/text()'.format(i+1))\n",
    "    song = selector.xpath('//*[@id=\"app\"]/div/div[2]/div[2]/div[3]/ul[2]/li[{}]/div/div[4]/a/text()'.format(i+1))\n",
    "    print(song)\n",
    "    music_list.extend(music)\n",
    "    if(len(song) == 1):\n",
    "        song_list.extend(song)\n",
    "    else:\n",
    "        temp = ''\n",
    "        for i in song:\n",
    "            temp += i\n",
    "        song_list.extend(temp)"
   ]
  },
  {
   "cell_type": "code",
   "execution_count": 38,
   "metadata": {},
   "outputs": [],
   "source": [
    "i = 4\n",
    "song = selector.xpath('//*[@id=\"app\"]/div/div[2]/div[2]/div[3]/ul[2]/li[{}]/div/div[4]/a/text()'.format(i+1))"
   ]
  },
  {
   "cell_type": "code",
   "execution_count": 39,
   "metadata": {},
   "outputs": [
    {
     "data": {
      "text/plain": [
       "['王赫野']"
      ]
     },
     "execution_count": 39,
     "metadata": {},
     "output_type": "execute_result"
    }
   ],
   "source": [
    "song"
   ]
  },
  {
   "cell_type": "code",
   "execution_count": 34,
   "metadata": {},
   "outputs": [
    {
     "data": {
      "text/plain": [
       "10"
      ]
     },
     "execution_count": 34,
     "metadata": {},
     "output_type": "execute_result"
    }
   ],
   "source": [
    "len(music_list)"
   ]
  },
  {
   "cell_type": "code",
   "execution_count": 35,
   "metadata": {},
   "outputs": [
    {
     "data": {
      "text/plain": [
       "34"
      ]
     },
     "execution_count": 35,
     "metadata": {},
     "output_type": "execute_result"
    }
   ],
   "source": [
    "len(song_list)"
   ]
  },
  {
   "cell_type": "code",
   "execution_count": 36,
   "metadata": {},
   "outputs": [
    {
     "data": {
      "text/plain": [
       "['周杰伦',\n",
       " '阿梨粤',\n",
       " '周杰伦',\n",
       " '王源',\n",
       " '刘',\n",
       " '惜',\n",
       " '君',\n",
       " '王',\n",
       " '赫',\n",
       " '野',\n",
       " '王赫野',\n",
       " 'G',\n",
       " 'e',\n",
       " 'n',\n",
       " 't',\n",
       " 'l',\n",
       " 'e',\n",
       " ' ',\n",
       " 'B',\n",
       " 'o',\n",
       " 'n',\n",
       " 'e',\n",
       " 's',\n",
       " '林',\n",
       " '俊',\n",
       " '杰',\n",
       " '孝琳 (효린)',\n",
       " '王天阳',\n",
       " '胡',\n",
       " '彦',\n",
       " '斌',\n",
       " '张',\n",
       " '碧',\n",
       " '晨']"
      ]
     },
     "execution_count": 36,
     "metadata": {},
     "output_type": "execute_result"
    }
   ],
   "source": [
    "song_list"
   ]
  },
  {
   "cell_type": "code",
   "execution_count": null,
   "metadata": {},
   "outputs": [],
   "source": []
  }
 ],
 "metadata": {
  "kernelspec": {
   "display_name": "Python 3",
   "language": "python",
   "name": "python3"
  },
  "language_info": {
   "codemirror_mode": {
    "name": "ipython",
    "version": 3
   },
   "file_extension": ".py",
   "mimetype": "text/x-python",
   "name": "python",
   "nbconvert_exporter": "python",
   "pygments_lexer": "ipython3",
   "version": "3.7.4"
  }
 },
 "nbformat": 4,
 "nbformat_minor": 2
}
