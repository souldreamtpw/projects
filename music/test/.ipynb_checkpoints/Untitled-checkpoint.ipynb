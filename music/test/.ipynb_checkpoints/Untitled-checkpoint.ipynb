{
 "cells": [
  {
   "cell_type": "code",
   "execution_count": 5,
   "metadata": {},
   "outputs": [],
   "source": [
    "#coding：utf-8\n",
    "import os,re"
   ]
  },
  {
   "cell_type": "code",
   "execution_count": 10,
   "metadata": {},
   "outputs": [],
   "source": [
    "#代码所在目录\n",
    "FILE_PATH = r'C:\\Users\\32661\\Desktop\\朵朵\\mysql'"
   ]
  },
  {
   "cell_type": "code",
   "execution_count": 11,
   "metadata": {},
   "outputs": [],
   "source": [
    "def analyze_code(codefilesource):\n",
    "  '''\n",
    "  打开一个py文件，统计其中的代码行数，包括空行和注释\n",
    "  返回含该文件总行数，注释行数，空行数的列表\n",
    "  :param codefilesource:\n",
    "  :return:\n",
    "  '''\n",
    "  total_line = 0\n",
    "  comment_line = 0\n",
    "  blank_line = 0\n",
    "  with open(codefilesource,encoding='gb18030',errors='ignore') as f:\n",
    "    lines = f.readlines()\n",
    "    total_line = len(lines)\n",
    "    line_index = 0\n",
    "    #遍历每一行\n",
    "    while line_index < total_line:\n",
    "      line = lines[line_index]\n",
    "      #检查是否为注释\n",
    "      if line.startswith(\"#\"):\n",
    "        comment_line += 1\n",
    "      elif re.match(\"\\s*'''\",line) is not None:\n",
    "        comment_line += 1\n",
    "        while re.match(\".*'''$\",line) is None:\n",
    "          line = lines[line_index]\n",
    "          comment_line += 1\n",
    "          line_index += 1\n",
    "      #检查是否为空行\n",
    "      elif line =='\\n':\n",
    "        blank_line += 1\n",
    "      line_index += 1\n",
    "  print(\"在%s中:\"%codefilesource)\n",
    "  print(\"代码行数：\",total_line)\n",
    "  print(\"注释行数:\",comment_line,\"占%0.2f%%\"%(comment_line*100/total_line))\n",
    "  print(\"空行数:\", blank_line, \"占%0.2f%%\"%(blank_line * 100 / total_line))\n",
    "  return [total_line,comment_line,blank_line]\n"
   ]
  },
  {
   "cell_type": "code",
   "execution_count": 12,
   "metadata": {},
   "outputs": [],
   "source": [
    "def run(FILE_PATH):\n",
    "    a\n",
    "    os.chdir(FILE_PATH)\n",
    "    #遍历py文件\n",
    "    total_lines = 0\n",
    "    total_comment_lines = 0\n",
    "    total_blank_lines = 0\n",
    "    for i in os.listdir(os.getcwd()):\n",
    "        if os.path.splitext(i)[1] == '.py':\n",
    "            line = analyze_code(i)\n",
    "            total_lines,total_comment_lines,total_blank_lines=total_lines+line[0],total_comment_lines+line[1],total_blank_lines+line[2]\n",
    "    #   print(\"总代码行数:\",total_lines)\n",
    "    #   print(\"总注释行数:\",total_comment_lines,\"占%0.2f%%\"%(total_comment_lines*100/total_lines))\n",
    "    #   print(\"总空行数:\", total_blank_lines, \"占%0.2f%%\"% (total_blank_lines * 100 / total_lines))\n",
    "    return total_lines"
   ]
  },
  {
   "cell_type": "code",
   "execution_count": 13,
   "metadata": {},
   "outputs": [
    {
     "name": "stdout",
     "output_type": "stream",
     "text": [
      "在config.py中:\n",
      "代码行数： 37\n",
      "注释行数: 2 占5.41%\n",
      "空行数: 7 占18.92%\n",
      "在create_database.py中:\n",
      "代码行数： 72\n",
      "注释行数: 2 占2.78%\n",
      "空行数: 7 占9.72%\n",
      "在get_information.py中:\n",
      "代码行数： 76\n",
      "注释行数: 2 占2.63%\n",
      "空行数: 5 占6.58%\n",
      "在insert_information.py中:\n",
      "代码行数： 52\n",
      "注释行数: 2 占3.85%\n",
      "空行数: 4 占7.69%\n",
      "在update.py中:\n",
      "代码行数： 20\n",
      "注释行数: 0 占0.00%\n",
      "空行数: 3 占15.00%\n",
      "在__init__.py中:\n",
      "代码行数： 14\n",
      "注释行数: 2 占14.29%\n",
      "空行数: 1 占7.14%\n",
      "总代码行数: 271\n",
      "总注释行数: 10 占3.69%\n",
      "总空行数: 27 占9.96%\n"
     ]
    }
   ],
   "source": [
    "if __name__ == '__main__':\n",
    "  run(FILE_PATH)"
   ]
  },
  {
   "cell_type": "code",
   "execution_count": null,
   "metadata": {},
   "outputs": [],
   "source": []
  }
 ],
 "metadata": {
  "kernelspec": {
   "display_name": "Python 3",
   "language": "python",
   "name": "python3"
  },
  "language_info": {
   "codemirror_mode": {
    "name": "ipython",
    "version": 3
   },
   "file_extension": ".py",
   "mimetype": "text/x-python",
   "name": "python",
   "nbconvert_exporter": "python",
   "pygments_lexer": "ipython3",
   "version": "3.7.4"
  }
 },
 "nbformat": 4,
 "nbformat_minor": 2
}
