{
 "cells": [
  {
   "cell_type": "code",
   "execution_count": 7,
   "metadata": {},
   "outputs": [],
   "source": [
    "#coding：utf-8\n",
    "import os,re"
   ]
  },
  {
   "cell_type": "code",
   "execution_count": 8,
   "metadata": {},
   "outputs": [],
   "source": [
    "#代码所在目录\n",
    "FILE_PATH = r'C:\\Users\\souldream\\Desktop\\朵朵'"
   ]
  },
  {
   "cell_type": "code",
   "execution_count": 9,
   "metadata": {},
   "outputs": [],
   "source": [
    "def analyze_code(codefilesource):\n",
    "  '''\n",
    "  打开一个py文件，统计其中的代码行数，包括空行和注释\n",
    "  返回含该文件总行数，注释行数，空行数的列表\n",
    "  :param codefilesource:\n",
    "  :return:\n",
    "  '''\n",
    "  total_line = 0\n",
    "  comment_line = 0\n",
    "  blank_line = 0\n",
    "  with open(codefilesource,encoding='gb18030',errors='ignore') as f:\n",
    "    lines = f.readlines()\n",
    "    total_line = len(lines)\n",
    "    line_index = 0\n",
    "    #遍历每一行\n",
    "    while line_index < total_line:\n",
    "      line = lines[line_index]\n",
    "      #检查是否为注释\n",
    "      if line.startswith(\"#\"):\n",
    "        comment_line += 1\n",
    "      elif re.match(\"\\s*'''\",line) is not None:\n",
    "        comment_line += 1\n",
    "        while re.match(\".*'''$\",line) is None:\n",
    "          line = lines[line_index]\n",
    "          comment_line += 1\n",
    "          line_index += 1\n",
    "      #检查是否为空行\n",
    "      elif line =='\\n':\n",
    "        blank_line += 1\n",
    "      line_index += 1\n",
    "#   print(\"在%s中:\"%codefilesource)\n",
    "#   print(\"代码行数：\",total_line)\n",
    "#   print(\"注释行数:\",comment_line,\"占%0.2f%%\"%(comment_line*100/total_line))\n",
    "#   print(\"空行数:\", blank_line, \"占%0.2f%%\"%(blank_line * 100 / total_line))\n",
    "  return [total_line,comment_line,blank_line]\n"
   ]
  },
  {
   "cell_type": "code",
   "execution_count": 10,
   "metadata": {},
   "outputs": [],
   "source": [
    "def run(FILE_PATH):\n",
    "    os.chdir(FILE_PATH)\n",
    "    #遍历py文件\n",
    "    total_lines = 0\n",
    "    total_comment_lines = 0\n",
    "    total_blank_lines = 0\n",
    "    for i in os.listdir(os.getcwd()):\n",
    "        if os.path.splitext(i)[1] == '.py':\n",
    "            line = analyze_code(i)\n",
    "            total_lines,total_comment_lines,total_blank_lines=total_lines+line[0],total_comment_lines+line[1],total_blank_lines+line[2]\n",
    "    #   print(\"总代码行数:\",total_lines)\n",
    "    #   print(\"总注释行数:\",total_comment_lines,\"占%0.2f%%\"%(total_comment_lines*100/total_lines))\n",
    "    #   print(\"总空行数:\", total_blank_lines, \"占%0.2f%%\"% (total_blank_lines * 100 / total_lines))\n",
    "    return total_lines"
   ]
  },
  {
   "cell_type": "code",
   "execution_count": 17,
   "metadata": {},
   "outputs": [],
   "source": [
    "path = os.listdir(FILE_PATH)"
   ]
  },
  {
   "cell_type": "code",
   "execution_count": 18,
   "metadata": {},
   "outputs": [
    {
     "data": {
      "text/plain": [
       "['down',\n",
       " 'history',\n",
       " 'img',\n",
       " 'main.py',\n",
       " 'music_search',\n",
       " 'mysql',\n",
       " 'qt',\n",
       " 'result',\n",
       " 'temp',\n",
       " 'test',\n",
       " 'ui',\n",
       " '__pycache__']"
      ]
     },
     "execution_count": 18,
     "metadata": {},
     "output_type": "execute_result"
    }
   ],
   "source": [
    "path"
   ]
  },
  {
   "cell_type": "code",
   "execution_count": 19,
   "metadata": {},
   "outputs": [],
   "source": [
    "del path[11]\n",
    "del path[10]\n",
    "del path[8]\n",
    "del path[7]\n",
    "del path[3]\n",
    "del path[2]\n",
    "del path[1]\n",
    "del path[0]"
   ]
  },
  {
   "cell_type": "code",
   "execution_count": 20,
   "metadata": {},
   "outputs": [
    {
     "data": {
      "text/plain": [
       "['music_search', 'mysql', 'qt', 'test']"
      ]
     },
     "execution_count": 20,
     "metadata": {},
     "output_type": "execute_result"
    }
   ],
   "source": [
    "path"
   ]
  },
  {
   "cell_type": "code",
   "execution_count": 21,
   "metadata": {},
   "outputs": [
    {
     "data": {
      "text/plain": [
       "'C:\\\\Users\\\\souldream\\\\Desktop\\\\朵朵\\\\music_search'"
      ]
     },
     "execution_count": 21,
     "metadata": {},
     "output_type": "execute_result"
    }
   ],
   "source": [
    "FILE_PATH + '\\\\' + path[0]"
   ]
  },
  {
   "cell_type": "code",
   "execution_count": 22,
   "metadata": {},
   "outputs": [
    {
     "name": "stdout",
     "output_type": "stream",
     "text": [
      "music_search\n",
      "mysql\n",
      "qt\n",
      "test\n"
     ]
    }
   ],
   "source": [
    "temp = 0\n",
    "for i in path:\n",
    "    print(i)\n",
    "    temp += run(FILE_PATH + '\\\\' + i)"
   ]
  },
  {
   "cell_type": "code",
   "execution_count": 23,
   "metadata": {},
   "outputs": [
    {
     "data": {
      "text/plain": [
       "2857"
      ]
     },
     "execution_count": 23,
     "metadata": {},
     "output_type": "execute_result"
    }
   ],
   "source": [
    "temp"
   ]
  },
  {
   "cell_type": "code",
   "execution_count": 71,
   "metadata": {},
   "outputs": [
    {
     "data": {
      "text/plain": [
       "0"
      ]
     },
     "execution_count": 71,
     "metadata": {},
     "output_type": "execute_result"
    }
   ],
   "source": [
    "run('C:\\\\Users\\\\32661\\\\Desktop\\\\朵朵\\\\history')"
   ]
  },
  {
   "cell_type": "code",
   "execution_count": null,
   "metadata": {},
   "outputs": [],
   "source": []
  }
 ],
 "metadata": {
  "kernelspec": {
   "display_name": "Python 3 (ipykernel)",
   "language": "python",
   "name": "python3"
  },
  "language_info": {
   "codemirror_mode": {
    "name": "ipython",
    "version": 3
   },
   "file_extension": ".py",
   "mimetype": "text/x-python",
   "name": "python",
   "nbconvert_exporter": "python",
   "pygments_lexer": "ipython3",
   "version": "3.7.4"
  }
 },
 "nbformat": 4,
 "nbformat_minor": 2
}
