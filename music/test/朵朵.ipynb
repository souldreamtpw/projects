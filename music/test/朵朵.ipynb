{
 "cells": [
  {
   "cell_type": "code",
   "execution_count": 14,
   "metadata": {},
   "outputs": [],
   "source": [
    "import lxml.etree as et\n",
    "import lxml\n",
    "import requests as re\n",
    "import pymysql"
   ]
  },
  {
   "cell_type": "code",
   "execution_count": 15,
   "metadata": {},
   "outputs": [],
   "source": [
    "url = 'https://y.qq.com/n/ryqq/toplist/62'"
   ]
  },
  {
   "cell_type": "code",
   "execution_count": 16,
   "metadata": {},
   "outputs": [],
   "source": [
    "def fetch(url):\n",
    "    # 请求并下载网页\n",
    "    res = re.get(url)\n",
    "    if res.status_code != 200:\n",
    "        res.raise_for_status()\n",
    "    else:\n",
    "        return res.text"
   ]
  },
  {
   "cell_type": "code",
   "execution_count": 17,
   "metadata": {},
   "outputs": [],
   "source": [
    "# 1. 请求入口页面\n",
    "selector = et.HTML(fetch(url))"
   ]
  },
  {
   "cell_type": "code",
   "execution_count": 24,
   "metadata": {},
   "outputs": [],
   "source": [
    "music = selector.xpath('//*[@id=\"app\"]/div/div[2]/div[2]/div[3]/ul[2]/li/div/div[3]/span/a[2]/text()')\n",
    "song = selector.xpath('//*[@id=\"app\"]/div/div[2]/div[2]/div[3]/ul[2]/li/div/div[4]/a/text()')\n",
    "judge = selector.xpath('//*[@id=\"app\"]/div/div[2]/div[2]/div[3]/ul[2]/li/div/div[4]/text()')"
   ]
  },
  {
   "cell_type": "code",
   "execution_count": 58,
   "metadata": {},
   "outputs": [],
   "source": [
    "music_list = []\n",
    "song_list = []"
   ]
  },
  {
   "cell_type": "code",
   "execution_count": 59,
   "metadata": {},
   "outputs": [],
   "source": [
    "for i in range(10):\n",
    "    music = selector.xpath('//*[@id=\"app\"]/div/div[2]/div[2]/div[3]/ul[2]/li[{}]/div/div[3]/span/a[2]/text()'.format(i+1))\n",
    "    song = selector.xpath('//*[@id=\"app\"]/div/div[2]/div[2]/div[3]/ul[2]/li[{}]/div/div[4]/a/text()'.format(i+1))\n",
    "    music_list.extend(music)\n",
    "    if(len(song) == 1):\n",
    "        song_list.extend(song)\n",
    "    else:\n",
    "        temp = song[0]\n",
    "        for i in range(1, len(song)):\n",
    "            temp += '/' + song[i]\n",
    "        song_list.append(temp)"
   ]
  },
  {
   "cell_type": "code",
   "execution_count": 60,
   "metadata": {},
   "outputs": [
    {
     "data": {
      "text/plain": [
       "10"
      ]
     },
     "execution_count": 60,
     "metadata": {},
     "output_type": "execute_result"
    }
   ],
   "source": [
    "len(music_list)"
   ]
  },
  {
   "cell_type": "code",
   "execution_count": 61,
   "metadata": {},
   "outputs": [
    {
     "data": {
      "text/plain": [
       "10"
      ]
     },
     "execution_count": 61,
     "metadata": {},
     "output_type": "execute_result"
    }
   ],
   "source": [
    "len(song_list)"
   ]
  },
  {
   "cell_type": "code",
   "execution_count": 62,
   "metadata": {},
   "outputs": [
    {
     "data": {
      "text/plain": [
       "['周杰伦',\n",
       " '阿梨粤',\n",
       " '周杰伦',\n",
       " '王源',\n",
       " '刘惜君/王赫野',\n",
       " '王赫野',\n",
       " 'Gentle Bones/林俊杰',\n",
       " '孝琳 (효린)',\n",
       " '王天阳',\n",
       " '胡彦斌/张碧晨']"
      ]
     },
     "execution_count": 62,
     "metadata": {},
     "output_type": "execute_result"
    }
   ],
   "source": [
    "song_list"
   ]
  },
  {
   "cell_type": "code",
   "execution_count": null,
   "metadata": {},
   "outputs": [],
   "source": []
  }
 ],
 "metadata": {
  "kernelspec": {
   "display_name": "Python 3",
   "language": "python",
   "name": "python3"
  },
  "language_info": {
   "codemirror_mode": {
    "name": "ipython",
    "version": 3
   },
   "file_extension": ".py",
   "mimetype": "text/x-python",
   "name": "python",
   "nbconvert_exporter": "python",
   "pygments_lexer": "ipython3",
   "version": "3.7.4"
  }
 },
 "nbformat": 4,
 "nbformat_minor": 2
}
