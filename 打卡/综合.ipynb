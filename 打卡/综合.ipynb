{
 "cells": [
  {
   "cell_type": "code",
   "execution_count": 20,
   "metadata": {},
   "outputs": [],
   "source": [
    "import math\n",
    "import sys\n",
    "\n",
    "import matplotlib.pyplot as plt\n",
    "import seaborn as sns\n",
    "import pandas as pd\n",
    "import numpy as np\n",
    "\n",
    "from sklearn.model_selection import train_test_split\n",
    "from sklearn.ensemble import RandomForestRegressor\n",
    "from sklearn.datasets import make_regression\n",
    "import statsmodels.api as sm\n",
    "from sklearn import metrics\n",
    "from pandas import Series\n",
    "from scipy import stats\n",
    "%matplotlib inline"
   ]
  },
  {
   "cell_type": "markdown",
   "metadata": {},
   "source": [
    "# 一、数据集载入"
   ]
  },
  {
   "cell_type": "code",
   "execution_count": 21,
   "metadata": {},
   "outputs": [],
   "source": [
    "address = r'C:\\Users\\32661\\Desktop\\重庆农商\\汇总\\第一题\\用户信息数据.csv'\n",
    "address1 = r'C:\\Users\\32661\\Desktop\\重庆农商\\汇总\\第一题\\数据集详细情况.csv'\n",
    "address2 = r'C:\\Users\\32661\\Desktop\\重庆农商\\汇总\\第一题\\处理后数据.csv'\n",
    "address3 = r'C:\\Users\\32661\\Desktop\\重庆农商\\汇总\\第一题\\训练集.csv'\n",
    "address4 = r'C:\\Users\\32661\\Desktop\\重庆农商\\汇总\\第一题\\测试集.csv'\n",
    "address5 = r'C:\\Users\\32661\\Desktop\\重庆农商\\汇总\\第一题\\信用评分卡.csv'"
   ]
  },
  {
   "cell_type": "code",
   "execution_count": 22,
   "metadata": {},
   "outputs": [],
   "source": [
    "df = pd.read_csv(address)"
   ]
  },
  {
   "cell_type": "code",
   "execution_count": 23,
   "metadata": {},
   "outputs": [
    {
     "data": {
      "text/html": [
       "<div>\n",
       "<style scoped>\n",
       "    .dataframe tbody tr th:only-of-type {\n",
       "        vertical-align: middle;\n",
       "    }\n",
       "\n",
       "    .dataframe tbody tr th {\n",
       "        vertical-align: top;\n",
       "    }\n",
       "\n",
       "    .dataframe thead th {\n",
       "        text-align: right;\n",
       "    }\n",
       "</style>\n",
       "<table border=\"1\" class=\"dataframe\">\n",
       "  <thead>\n",
       "    <tr style=\"text-align: right;\">\n",
       "      <th></th>\n",
       "      <th>Unnamed: 0</th>\n",
       "      <th>SeriousDlqin2yrs</th>\n",
       "      <th>RevolvingUtilizationOfUnsecuredLines</th>\n",
       "      <th>age</th>\n",
       "      <th>NumberOfTime30-59DaysPastDueNotWorse</th>\n",
       "      <th>DebtRatio</th>\n",
       "      <th>MonthlyIncome</th>\n",
       "      <th>NumberOfOpenCreditLinesAndLoans</th>\n",
       "      <th>NumberOfTimes90DaysLate</th>\n",
       "      <th>NumberRealEstateLoansOrLines</th>\n",
       "      <th>NumberOfTime60-89DaysPastDueNotWorse</th>\n",
       "      <th>NumberOfDependents</th>\n",
       "    </tr>\n",
       "  </thead>\n",
       "  <tbody>\n",
       "    <tr>\n",
       "      <td>0</td>\n",
       "      <td>1</td>\n",
       "      <td>1</td>\n",
       "      <td>0.766127</td>\n",
       "      <td>45</td>\n",
       "      <td>2</td>\n",
       "      <td>0.802982</td>\n",
       "      <td>9120.0</td>\n",
       "      <td>13</td>\n",
       "      <td>0</td>\n",
       "      <td>6</td>\n",
       "      <td>0</td>\n",
       "      <td>2.0</td>\n",
       "    </tr>\n",
       "    <tr>\n",
       "      <td>1</td>\n",
       "      <td>2</td>\n",
       "      <td>0</td>\n",
       "      <td>0.957151</td>\n",
       "      <td>40</td>\n",
       "      <td>0</td>\n",
       "      <td>0.121876</td>\n",
       "      <td>2600.0</td>\n",
       "      <td>4</td>\n",
       "      <td>0</td>\n",
       "      <td>0</td>\n",
       "      <td>0</td>\n",
       "      <td>1.0</td>\n",
       "    </tr>\n",
       "    <tr>\n",
       "      <td>2</td>\n",
       "      <td>3</td>\n",
       "      <td>0</td>\n",
       "      <td>0.658180</td>\n",
       "      <td>38</td>\n",
       "      <td>1</td>\n",
       "      <td>0.085113</td>\n",
       "      <td>3042.0</td>\n",
       "      <td>2</td>\n",
       "      <td>1</td>\n",
       "      <td>0</td>\n",
       "      <td>0</td>\n",
       "      <td>0.0</td>\n",
       "    </tr>\n",
       "    <tr>\n",
       "      <td>3</td>\n",
       "      <td>4</td>\n",
       "      <td>0</td>\n",
       "      <td>0.233810</td>\n",
       "      <td>30</td>\n",
       "      <td>0</td>\n",
       "      <td>0.036050</td>\n",
       "      <td>3300.0</td>\n",
       "      <td>5</td>\n",
       "      <td>0</td>\n",
       "      <td>0</td>\n",
       "      <td>0</td>\n",
       "      <td>0.0</td>\n",
       "    </tr>\n",
       "    <tr>\n",
       "      <td>4</td>\n",
       "      <td>5</td>\n",
       "      <td>0</td>\n",
       "      <td>0.907239</td>\n",
       "      <td>49</td>\n",
       "      <td>1</td>\n",
       "      <td>0.024926</td>\n",
       "      <td>63588.0</td>\n",
       "      <td>7</td>\n",
       "      <td>0</td>\n",
       "      <td>1</td>\n",
       "      <td>0</td>\n",
       "      <td>0.0</td>\n",
       "    </tr>\n",
       "  </tbody>\n",
       "</table>\n",
       "</div>"
      ],
      "text/plain": [
       "   Unnamed: 0  SeriousDlqin2yrs  RevolvingUtilizationOfUnsecuredLines  age  \\\n",
       "0           1                 1                              0.766127   45   \n",
       "1           2                 0                              0.957151   40   \n",
       "2           3                 0                              0.658180   38   \n",
       "3           4                 0                              0.233810   30   \n",
       "4           5                 0                              0.907239   49   \n",
       "\n",
       "   NumberOfTime30-59DaysPastDueNotWorse  DebtRatio  MonthlyIncome  \\\n",
       "0                                     2   0.802982         9120.0   \n",
       "1                                     0   0.121876         2600.0   \n",
       "2                                     1   0.085113         3042.0   \n",
       "3                                     0   0.036050         3300.0   \n",
       "4                                     1   0.024926        63588.0   \n",
       "\n",
       "   NumberOfOpenCreditLinesAndLoans  NumberOfTimes90DaysLate  \\\n",
       "0                               13                        0   \n",
       "1                                4                        0   \n",
       "2                                2                        1   \n",
       "3                                5                        0   \n",
       "4                                7                        0   \n",
       "\n",
       "   NumberRealEstateLoansOrLines  NumberOfTime60-89DaysPastDueNotWorse  \\\n",
       "0                             6                                     0   \n",
       "1                             0                                     0   \n",
       "2                             0                                     0   \n",
       "3                             0                                     0   \n",
       "4                             1                                     0   \n",
       "\n",
       "   NumberOfDependents  \n",
       "0                 2.0  \n",
       "1                 1.0  \n",
       "2                 0.0  \n",
       "3                 0.0  \n",
       "4                 0.0  "
      ]
     },
     "execution_count": 23,
     "metadata": {},
     "output_type": "execute_result"
    }
   ],
   "source": [
    "df.head()"
   ]
  },
  {
   "cell_type": "code",
   "execution_count": 24,
   "metadata": {},
   "outputs": [
    {
     "data": {
      "text/html": [
       "<div>\n",
       "<style scoped>\n",
       "    .dataframe tbody tr th:only-of-type {\n",
       "        vertical-align: middle;\n",
       "    }\n",
       "\n",
       "    .dataframe tbody tr th {\n",
       "        vertical-align: top;\n",
       "    }\n",
       "\n",
       "    .dataframe thead th {\n",
       "        text-align: right;\n",
       "    }\n",
       "</style>\n",
       "<table border=\"1\" class=\"dataframe\">\n",
       "  <thead>\n",
       "    <tr style=\"text-align: right;\">\n",
       "      <th></th>\n",
       "      <th>用户ID</th>\n",
       "      <th>好坏客户</th>\n",
       "      <th>可用额度比值</th>\n",
       "      <th>年龄</th>\n",
       "      <th>逾期30-59天笔数</th>\n",
       "      <th>负债率</th>\n",
       "      <th>月收入</th>\n",
       "      <th>信贷数量</th>\n",
       "      <th>逾期90天笔数</th>\n",
       "      <th>固定资产贷款量</th>\n",
       "      <th>逾期60-89天笔数</th>\n",
       "      <th>家属数量</th>\n",
       "    </tr>\n",
       "  </thead>\n",
       "  <tbody>\n",
       "    <tr>\n",
       "      <td>0</td>\n",
       "      <td>1</td>\n",
       "      <td>1</td>\n",
       "      <td>0.766127</td>\n",
       "      <td>45</td>\n",
       "      <td>2</td>\n",
       "      <td>0.802982</td>\n",
       "      <td>9120.0</td>\n",
       "      <td>13</td>\n",
       "      <td>0</td>\n",
       "      <td>6</td>\n",
       "      <td>0</td>\n",
       "      <td>2.0</td>\n",
       "    </tr>\n",
       "    <tr>\n",
       "      <td>1</td>\n",
       "      <td>2</td>\n",
       "      <td>0</td>\n",
       "      <td>0.957151</td>\n",
       "      <td>40</td>\n",
       "      <td>0</td>\n",
       "      <td>0.121876</td>\n",
       "      <td>2600.0</td>\n",
       "      <td>4</td>\n",
       "      <td>0</td>\n",
       "      <td>0</td>\n",
       "      <td>0</td>\n",
       "      <td>1.0</td>\n",
       "    </tr>\n",
       "    <tr>\n",
       "      <td>2</td>\n",
       "      <td>3</td>\n",
       "      <td>0</td>\n",
       "      <td>0.658180</td>\n",
       "      <td>38</td>\n",
       "      <td>1</td>\n",
       "      <td>0.085113</td>\n",
       "      <td>3042.0</td>\n",
       "      <td>2</td>\n",
       "      <td>1</td>\n",
       "      <td>0</td>\n",
       "      <td>0</td>\n",
       "      <td>0.0</td>\n",
       "    </tr>\n",
       "    <tr>\n",
       "      <td>3</td>\n",
       "      <td>4</td>\n",
       "      <td>0</td>\n",
       "      <td>0.233810</td>\n",
       "      <td>30</td>\n",
       "      <td>0</td>\n",
       "      <td>0.036050</td>\n",
       "      <td>3300.0</td>\n",
       "      <td>5</td>\n",
       "      <td>0</td>\n",
       "      <td>0</td>\n",
       "      <td>0</td>\n",
       "      <td>0.0</td>\n",
       "    </tr>\n",
       "    <tr>\n",
       "      <td>4</td>\n",
       "      <td>5</td>\n",
       "      <td>0</td>\n",
       "      <td>0.907239</td>\n",
       "      <td>49</td>\n",
       "      <td>1</td>\n",
       "      <td>0.024926</td>\n",
       "      <td>63588.0</td>\n",
       "      <td>7</td>\n",
       "      <td>0</td>\n",
       "      <td>1</td>\n",
       "      <td>0</td>\n",
       "      <td>0.0</td>\n",
       "    </tr>\n",
       "  </tbody>\n",
       "</table>\n",
       "</div>"
      ],
      "text/plain": [
       "   用户ID  好坏客户    可用额度比值  年龄  逾期30-59天笔数       负债率      月收入  信贷数量  逾期90天笔数  \\\n",
       "0     1     1  0.766127  45           2  0.802982   9120.0    13        0   \n",
       "1     2     0  0.957151  40           0  0.121876   2600.0     4        0   \n",
       "2     3     0  0.658180  38           1  0.085113   3042.0     2        1   \n",
       "3     4     0  0.233810  30           0  0.036050   3300.0     5        0   \n",
       "4     5     0  0.907239  49           1  0.024926  63588.0     7        0   \n",
       "\n",
       "   固定资产贷款量  逾期60-89天笔数  家属数量  \n",
       "0        6           0   2.0  \n",
       "1        0           0   1.0  \n",
       "2        0           0   0.0  \n",
       "3        0           0   0.0  \n",
       "4        1           0   0.0  "
      ]
     },
     "execution_count": 24,
     "metadata": {},
     "output_type": "execute_result"
    }
   ],
   "source": [
    "states={\"Unnamed: 0\":\"用户ID\",\n",
    "        \"SeriousDlqin2yrs\":\"好坏客户\",\n",
    "        \"RevolvingUtilizationOfUnsecuredLines\":\"可用额度比值\", #\n",
    "        \"age\":\"年龄\",\n",
    "        \"NumberOfTime30-59DaysPastDueNotWorse\":\"逾期30-59天笔数\",\n",
    "        \"DebtRatio\":\"负债率\",\n",
    "        \"MonthlyIncome\":\"月收入\",\n",
    "        \"NumberOfOpenCreditLinesAndLoans\":\"信贷数量\",\n",
    "        \"NumberOfTimes90DaysLate\":\"逾期90天笔数\",\n",
    "        \"NumberRealEstateLoansOrLines\":\"固定资产贷款量\",\n",
    "        \"NumberOfTime60-89DaysPastDueNotWorse\":\"逾期60-89天笔数\",\n",
    "        \"NumberOfDependents\":\"家属数量\"}\n",
    "df.rename(columns=states,inplace=True)\n",
    "df.head()"
   ]
  },
  {
   "cell_type": "code",
   "execution_count": 25,
   "metadata": {},
   "outputs": [],
   "source": [
    "#数据集确实和分布情况\n",
    "df.describe().to_csv(address1)"
   ]
  },
  {
   "cell_type": "markdown",
   "metadata": {},
   "source": [
    "# 二、数据预处理"
   ]
  },
  {
   "cell_type": "markdown",
   "metadata": {},
   "source": [
    "2.1 查看数据信息"
   ]
  },
  {
   "cell_type": "code",
   "execution_count": 26,
   "metadata": {},
   "outputs": [
    {
     "name": "stdout",
     "output_type": "stream",
     "text": [
      "<class 'pandas.core.frame.DataFrame'>\n",
      "RangeIndex: 150000 entries, 0 to 149999\n",
      "Data columns (total 11 columns):\n",
      "好坏客户          150000 non-null int64\n",
      "可用额度比值        150000 non-null float64\n",
      "年龄            150000 non-null int64\n",
      "逾期30-59天笔数    150000 non-null int64\n",
      "负债率           150000 non-null float64\n",
      "月收入           120269 non-null float64\n",
      "信贷数量          150000 non-null int64\n",
      "逾期90天笔数       150000 non-null int64\n",
      "固定资产贷款量       150000 non-null int64\n",
      "逾期60-89天笔数    150000 non-null int64\n",
      "家属数量          146076 non-null float64\n",
      "dtypes: float64(4), int64(7)\n",
      "memory usage: 12.6 MB\n"
     ]
    }
   ],
   "source": [
    "df=df.iloc[:,1:]#去掉第一列无用序号\n",
    "df.info()"
   ]
  },
  {
   "cell_type": "markdown",
   "metadata": {},
   "source": [
    "月收入和家属数量特征中有缺失数据"
   ]
  },
  {
   "cell_type": "code",
   "execution_count": 27,
   "metadata": {},
   "outputs": [
    {
     "data": {
      "text/plain": [
       "好坏客户          0.000\n",
       "可用额度比值        0.000\n",
       "年龄            0.000\n",
       "逾期30-59天笔数    0.000\n",
       "负债率           0.000\n",
       "月收入           0.198\n",
       "信贷数量          0.000\n",
       "逾期90天笔数       0.000\n",
       "固定资产贷款量       0.000\n",
       "逾期60-89天笔数    0.000\n",
       "家属数量          0.026\n",
       "dtype: float64"
      ]
     },
     "execution_count": 27,
     "metadata": {},
     "output_type": "execute_result"
    }
   ],
   "source": [
    "#计算特征的缺失比例\n",
    "round(df.isnull().sum()/df.好坏客户.count(),3)"
   ]
  },
  {
   "cell_type": "markdown",
   "metadata": {},
   "source": [
    "2.2 缺失值处理"
   ]
  },
  {
   "cell_type": "code",
   "execution_count": 28,
   "metadata": {
    "scrolled": true
   },
   "outputs": [],
   "source": [
    "# 用随机森林对缺失值预测填充函数\n",
    "def set_missing(df):\n",
    "    # 把已有的数值型特征取出来\n",
    "    process_df = df.iloc[:,[5,0,1,2,3,4,6,7,8,9]]\n",
    "    # 分成已知该特征和未知该特征两部分\n",
    "    known = process_df[process_df.月收入.notnull()].values\n",
    "    unknown = process_df[process_df.月收入.isnull()].values\n",
    "    # X为特征属性值\n",
    "    X = known[:, 1:]\n",
    "    # y为结果标签值\n",
    "    y = known[:, 0]\n",
    "    # fit到RandomForestRegressor之中\n",
    "    rfr = RandomForestRegressor(random_state=0, \n",
    "    n_estimators=200,max_depth=3,n_jobs=-1)\n",
    "    rfr.fit(X,y)\n",
    "    # 用得到的模型进行未知特征值预测\n",
    "    predicted = rfr.predict(unknown[:, 1:]).round(0)\n",
    "    # 用得到的预测结果填补原缺失数据\n",
    "    df.loc[(df.月收入.isnull()), '月收入'] = predicted\n",
    "    return df"
   ]
  },
  {
   "cell_type": "code",
   "execution_count": 29,
   "metadata": {},
   "outputs": [],
   "source": [
    "df=set_missing(df)#用随机森林填补比较多的缺失值\n",
    "df=df.dropna()#删除比较少的缺失值\n",
    "df = df.drop_duplicates()#删除重复项\n",
    "df.to_csv(address2,index=False)"
   ]
  },
  {
   "cell_type": "markdown",
   "metadata": {},
   "source": [
    "2.3异常值检测及处理"
   ]
  },
  {
   "cell_type": "markdown",
   "metadata": {},
   "source": [
    "利用箱型图对特征进行可视化来检测异常数据。\n"
   ]
  },
  {
   "cell_type": "code",
   "execution_count": 30,
   "metadata": {},
   "outputs": [],
   "source": [
    "plt.rcParams['font.sans-serif']=['SimHei'] #显示中文标签\n",
    "plt.rcParams['font.serif'] = ['KaiTi']\n",
    "plt.rcParams['axes.unicode_minus'] = False"
   ]
  },
  {
   "cell_type": "code",
   "execution_count": 31,
   "metadata": {},
   "outputs": [
    {
     "data": {
      "text/plain": [
       "<matplotlib.axes._subplots.AxesSubplot at 0x28d34891488>"
      ]
     },
     "execution_count": 31,
     "metadata": {},
     "output_type": "execute_result"
    },
    {
     "data": {
      "image/png": "[encoded data removed]",
      "text/plain": [
       "<Figure size 720x360 with 1 Axes>"
      ]
     },
     "metadata": {
      "needs_background": "light"
     },
     "output_type": "display_data"
    }
   ],
   "source": [
    "train_box=df.iloc[:,[3,7,9]]  \n",
    "train_box.boxplot(figsize=(10,5))"
   ]
  },
  {
   "cell_type": "code",
   "execution_count": 32,
   "metadata": {},
   "outputs": [
    {
     "data": {
      "text/plain": [
       "<matplotlib.axes._subplots.AxesSubplot at 0x28d33e49e88>"
      ]
     },
     "execution_count": 32,
     "metadata": {},
     "output_type": "execute_result"
    },
    {
     "data": {
      "image/png": "[encoded data removed]",
      "text/plain": [
       "<Figure size 720x360 with 1 Axes>"
      ]
     },
     "metadata": {
      "needs_background": "light"
     },
     "output_type": "display_data"
    }
   ],
   "source": [
    "train_box=df.iloc[:,[6]]  \n",
    "train_box.boxplot(figsize=(10,5))"
   ]
  },
  {
   "cell_type": "code",
   "execution_count": 33,
   "metadata": {},
   "outputs": [
    {
     "data": {
      "text/plain": [
       "<matplotlib.axes._subplots.AxesSubplot at 0x28d33ebcb88>"
      ]
     },
     "execution_count": 33,
     "metadata": {},
     "output_type": "execute_result"
    },
    {
     "data": {
      "image/png": "[encoded data removed]",
      "text/plain": [
       "<Figure size 720x360 with 1 Axes>"
      ]
     },
     "metadata": {
      "needs_background": "light"
     },
     "output_type": "display_data"
    }
   ],
   "source": [
    "train_box=df.iloc[:,[8]]  \n",
    "train_box.boxplot(figsize=(10,5))"
   ]
  },
  {
   "cell_type": "code",
   "execution_count": 34,
   "metadata": {},
   "outputs": [
    {
     "data": {
      "text/plain": [
       "<matplotlib.axes._subplots.AxesSubplot at 0x28d33f18bc8>"
      ]
     },
     "execution_count": 34,
     "metadata": {},
     "output_type": "execute_result"
    },
    {
     "data": {
      "image/png": "[encoded data removed]",
      "text/plain": [
       "<Figure size 720x360 with 1 Axes>"
      ]
     },
     "metadata": {
      "needs_background": "light"
     },
     "output_type": "display_data"
    }
   ],
   "source": [
    "train_box=df.iloc[:,[4]]  \n",
    "train_box.boxplot(figsize=(10,5))"
   ]
  },
  {
   "cell_type": "code",
   "execution_count": 35,
   "metadata": {},
   "outputs": [
    {
     "data": {
      "text/plain": [
       "<matplotlib.axes._subplots.AxesSubplot at 0x28d34705988>"
      ]
     },
     "execution_count": 35,
     "metadata": {},
     "output_type": "execute_result"
    },
    {
     "data": {
      "image/png": "[encoded data removed]",
      "text/plain": [
       "<Figure size 720x360 with 1 Axes>"
      ]
     },
     "metadata": {
      "needs_background": "light"
     },
     "output_type": "display_data"
    }
   ],
   "source": [
    "train_box=df.iloc[:,[10]]  \n",
    "train_box.boxplot(figsize=(10,5))"
   ]
  },
  {
   "cell_type": "code",
   "execution_count": 36,
   "metadata": {},
   "outputs": [],
   "source": [
    "# 年龄等于0的异常值进行剔除\n",
    "df = df[df['年龄'] > 0]"
   ]
  },
  {
   "cell_type": "code",
   "execution_count": 37,
   "metadata": {},
   "outputs": [],
   "source": [
    "#剔除异常值\n",
    "df = df[df['逾期30-59天笔数'] < 90]\n",
    "#变量SeriousDlqin2yrs取反\n",
    "df['好坏客户']=1-df['好坏客户']\n"
   ]
  },
  {
   "cell_type": "markdown",
   "metadata": {},
   "source": [
    "2.4 数据切分"
   ]
  },
  {
   "cell_type": "code",
   "execution_count": 38,
   "metadata": {},
   "outputs": [],
   "source": [
    "Y = df['好坏客户']\n",
    "X = df.iloc[:, 1:]\n",
    "#测试集占比30%\n",
    "X_train, X_test, Y_train, Y_test = train_test_split(X, Y, test_size=0.3, random_state=0)\n",
    "# print(Y_train)\n",
    "train = pd.concat([Y_train, X_train], axis=1)\n",
    "test = pd.concat([Y_test, X_test], axis=1)\n",
    "clasTest = test.groupby('好坏客户')['好坏客户'].count()\n",
    "train.to_csv(address3,index=False)\n",
    "test.to_csv(address4,index=False)"
   ]
  },
  {
   "cell_type": "markdown",
   "metadata": {},
   "source": [
    "# 三、探索性分析"
   ]
  },
  {
   "cell_type": "code",
   "execution_count": 39,
   "metadata": {},
   "outputs": [
    {
     "data": {
      "text/plain": [
       "<matplotlib.axes._subplots.AxesSubplot at 0x28d3448c088>"
      ]
     },
     "execution_count": 39,
     "metadata": {},
     "output_type": "execute_result"
    },
    {
     "data": {
      "image/png": "[encoded data removed]",
      "text/plain": [
       "<Figure size 432x288 with 1 Axes>"
      ]
     },
     "metadata": {
      "needs_background": "light"
     },
     "output_type": "display_data"
    }
   ],
   "source": [
    "age=df['年龄']\n",
    "sns.distplot(age)"
   ]
  },
  {
   "cell_type": "code",
   "execution_count": 40,
   "metadata": {},
   "outputs": [
    {
     "data": {
      "text/plain": [
       "<matplotlib.axes._subplots.AxesSubplot at 0x28d34c67a48>"
      ]
     },
     "execution_count": 40,
     "metadata": {},
     "output_type": "execute_result"
    },
    {
     "data": {
      "image/png": "[encoded data removed]",
      "text/plain": [
       "<Figure size 432x288 with 1 Axes>"
      ]
     },
     "metadata": {
      "needs_background": "light"
     },
     "output_type": "display_data"
    }
   ],
   "source": [
    "mi=df[df['月收入']<50000]['月收入'] \n",
    "sns.distplot(mi)"
   ]
  },
  {
   "cell_type": "code",
   "execution_count": 46,
   "metadata": {},
   "outputs": [
    {
     "data": {
      "text/plain": [
       "Text(0.5, 1.0, '月收入与坏客户率关系')"
      ]
     },
     "execution_count": 46,
     "metadata": {},
     "output_type": "execute_result"
    },
    {
     "data": {
      "text/plain": [
       "<Figure size 432x288 with 0 Axes>"
      ]
     },
     "metadata": {},
     "output_type": "display_data"
    },
    {
     "data": {
      "image/png": "[encoded data removed]",
      "text/plain": [
       "<Figure size 432x288 with 1 Axes>"
      ]
     },
     "metadata": {
      "needs_background": "light"
     },
     "output_type": "display_data"
    },
    {
     "data": {
      "image/png": "[encoded data removed]",
      "text/plain": [
       "<Figure size 432x288 with 1 Axes>"
      ]
     },
     "metadata": {
      "needs_background": "light"
     },
     "output_type": "display_data"
    }
   ],
   "source": [
    "cut_bins=[0,5000,10000,15000,20000,100000]\n",
    "month_cut=pd.cut(df[\"月收入\"],cut_bins)\n",
    "month_cut_grouped=df[\"好坏客户\"].groupby(month_cut).count()\n",
    "month_cut_grouped1=df[\"好坏客户\"].groupby(month_cut).sum()\n",
    "df3=pd.merge(pd.DataFrame(month_cut_grouped), pd.DataFrame(month_cut_grouped1),right_index=True,left_index=True)\n",
    "df3.rename(columns={\"好坏客户_x\":\"好客户\",\"好坏客户_y\":\"坏客户\"},inplace=True)\n",
    "df3.insert(2,\"坏客户率\",df3[\"坏客户\"]/df3[\"好客户\"])\n",
    "\n",
    "plt.figure()\n",
    "ax23=df3[[\"好客户\",\"坏客户\"]].plot.bar()\n",
    "ax23.set_xticklabels(df3.index,rotation=15)\n",
    "ax23.set_ylabel(\"客户数\")\n",
    "ax23.set_title(\"好坏客户数与月收入关系\")\n",
    "\n",
    "plt.figure()\n",
    "ax231=df3[\"坏客户率\"].plot()\n",
    "ax231.set_ylabel(\"坏客户率\")\n",
    "ax231.set_title(\"月收入与坏客户率关系\")"
   ]
  },
  {
   "cell_type": "code",
   "execution_count": 50,
   "metadata": {},
   "outputs": [
    {
     "data": {
      "text/plain": [
       "Text(0.5, 1.0, '好客户率与家属数量的关系')"
      ]
     },
     "execution_count": 50,
     "metadata": {},
     "output_type": "execute_result"
    },
    {
     "data": {
      "text/plain": [
       "<Figure size 432x288 with 0 Axes>"
      ]
     },
     "metadata": {},
     "output_type": "display_data"
    },
    {
     "data": {
      "image/png": "[encoded data removed]",
      "text/plain": [
       "<Figure size 432x288 with 1 Axes>"
      ]
     },
     "metadata": {
      "needs_background": "light"
     },
     "output_type": "display_data"
    },
    {
     "data": {
      "image/png": "[encoded data removed]",
      "text/plain": [
       "<Figure size 432x288 with 1 Axes>"
      ]
     },
     "metadata": {
      "needs_background": "light"
     },
     "output_type": "display_data"
    }
   ],
   "source": [
    "cut_bins=[0,2,4,20]\n",
    "family_cut=pd.cut(df[\"家属数量\"],cut_bins)\n",
    "family_cut_grouped=df[\"好坏客户\"].groupby(family_cut).count()\n",
    "family_cut_grouped1=df[\"好坏客户\"].groupby(family_cut).sum()\n",
    "df4=pd.merge(pd.DataFrame(family_cut_grouped), pd.DataFrame(family_cut_grouped1),right_index=True,left_index=True)\n",
    "df4.rename(columns={\"好坏客户_x\":\"好客户\",\"好坏客户_y\":\"坏客户\"},inplace=True)\n",
    "df4.insert(2,\"好客户率\",df4[\"坏客户\"]/df4[\"好客户\"])\n",
    "\n",
    "plt.figure()\n",
    "ax24=df4[[\"好客户\",\"坏客户\"]].plot.bar()\n",
    "ax24.set_xticklabels(df4.index,rotation=15)\n",
    "ax24.set_ylabel(\"客户数\")\n",
    "ax24.set_title(\"好坏客户数与家属数量关系\")\n",
    "\n",
    "plt.figure()\n",
    "ax241=df4[\"好客户率\"].plot()\n",
    "ax241.set_ylabel(\"好客户率\")\n",
    "ax241.set_title(\"好客户率与家属数量的关系\")"
   ]
  },
  {
   "cell_type": "markdown",
   "metadata": {},
   "source": [
    "# 四、特征变量选择"
   ]
  },
  {
   "cell_type": "markdown",
   "metadata": {},
   "source": [
    "4.1 分箱处理"
   ]
  },
  {
   "cell_type": "code",
   "execution_count": 117,
   "metadata": {},
   "outputs": [],
   "source": [
    "trainDf = pd.read_csv(address3)\n",
    "testDf = pd.read_csv(address4)"
   ]
  },
  {
   "cell_type": "code",
   "execution_count": 118,
   "metadata": {},
   "outputs": [],
   "source": [
    "# 定义自动分箱函数---最优分箱\n",
    "def mono_bin(Y, X, n ):\n",
    "    r = 0  #设定斯皮尔曼 初始值\n",
    "    good=Y.sum()   #好客户的人数\n",
    "    bad=Y.count()-good   #坏客户的人数\n",
    "  #下面这段就是分箱的核心 ，就是 机器来 选择 指定 最优的分箱节点，代替我们自己来设置\n",
    "    while np.abs(r) < 1:   #while ,不满足条件时，跳出循环\n",
    "        d1 = pd.DataFrame({\"X\": X, \"Y\": Y, \"Bucket\": pd.qcut(X, n)}) #注意这里是pd.qcut, Bucket： 将 X 分为 n 段，n由 斯皮尔曼系数决定\n",
    "        d2 = d1.groupby('Bucket', as_index = True)\n",
    "        r, p = stats.spearmanr(d2.mean().X, d2.mean().Y)   # 以斯皮尔曼系数作为分箱终止条件\n",
    "        n = n - 1\n",
    "    d3 = pd.DataFrame(d2.X.min(), columns = ['min'])\n",
    "    d3['min']=d2.min().X    #  min 就是分箱的节点\n",
    "    d3['max'] = d2.max().X\n",
    "    d3['sum'] = d2.sum().Y\n",
    "    d3['total'] = d2.count().Y\n",
    "    d3['rate'] = d2.mean().Y\n",
    "    d3['woe']=np.log((d3['rate']/(1-d3['rate']))/(good/bad))\n",
    "    d3['goodattribute']=d3['sum']/good\n",
    "    d3['badattribute']=(d3['total']-d3['sum'])/bad\n",
    "    iv=((d3['goodattribute']-d3['badattribute'])*d3['woe']).sum()   #返回 iv\n",
    "    d4 = (d3.sort_values(by = 'min')).reset_index(drop=True)    # 返回 d  \n",
    "    print(\"=\" * 60)\n",
    "    print(d4)\n",
    "    woe=list(d4['woe'].round(3))             #返回 woe\n",
    "    cut=[]    #  cut 存放箱段节点\n",
    "    cut.append(float('-inf'))  # 在 列表前加 -inf \n",
    "    for i in range(1,n+1):            # n 是前面的 分箱的 分割数  ，所以 分成n+1份\n",
    "         qua=X.quantile(i/(n+1))     #quantile 分为数  得到分箱的节点\n",
    "         cut.append(round(qua,4))   # 保留4位小数       #返回cut\n",
    "    cut.append(float('inf')) # 在列表后加  inf\n",
    "    return d4,iv,cut,woe"
   ]
  },
  {
   "cell_type": "code",
   "execution_count": 119,
   "metadata": {},
   "outputs": [
    {
     "name": "stdout",
     "output_type": "stream",
     "text": [
      "============================================================\n",
      "        min           max    sum  total      rate       woe  goodattribute  \\\n",
      "0  0.000000      0.031215  24941  25437  0.980501  1.283343       0.262719   \n",
      "1  0.031218      0.157927  24895  25437  0.978692  1.192807       0.262235   \n",
      "2  0.157928      0.558119  24149  25436  0.949402  0.297580       0.254377   \n",
      "3  0.558127  50708.000000  20949  25437  0.823564 -1.093666       0.220669   \n",
      "\n",
      "   badattribute  \n",
      "0      0.072802  \n",
      "1      0.079554  \n",
      "2      0.188904  \n",
      "3      0.658741  \n",
      "============================================================\n",
      "   min  max    sum  total      rate       woe  goodattribute  badattribute\n",
      "0   21   33  10081  11342  0.888820 -0.555602       0.106190      0.185087\n",
      "1   34   40  11179  12365  0.904084 -0.390899       0.117755      0.174079\n",
      "2   41   45  10256  11215  0.914490 -0.264622       0.108033      0.140760\n",
      "3   46   49   9544  10380  0.919461 -0.199310       0.100533      0.122707\n",
      "4   50   54  11571  12485  0.926792 -0.095923       0.121885      0.134155\n",
      "5   55   59  11118  11770  0.944605  0.201927       0.117113      0.095699\n",
      "6   60   64  11109  11597  0.957920  0.490846       0.117018      0.071628\n",
      "7   65   71  10010  10292  0.972600  0.935083       0.105442      0.041391\n",
      "8   72  103  10066  10301  0.977187  1.122984       0.106032      0.034493\n",
      "============================================================\n",
      "        min            max    sum  total      rate       woe  goodattribute  \\\n",
      "0  0.000000       0.236159  31922  33916  0.941208  0.138803       0.336255   \n",
      "1  0.236160       0.547099  31785  33915  0.937196  0.068523       0.334812   \n",
      "2  0.547112  307001.000000  31227  33916  0.920716 -0.182236       0.328934   \n",
      "\n",
      "   badattribute  \n",
      "0      0.292676  \n",
      "1      0.312638  \n",
      "2      0.394687  \n",
      "============================================================\n",
      "      min        max    sum  total      rate       woe  goodattribute  \\\n",
      "0     0.0     3400.0  31500  34162  0.922077 -0.163440       0.331809   \n",
      "1  3401.0     6866.0  31209  33674  0.926798 -0.095835       0.328744   \n",
      "2  6867.0  3008750.0  32225  33911  0.950282  0.316034       0.339446   \n",
      "\n",
      "   badattribute  \n",
      "0      0.390724  \n",
      "1      0.361808  \n",
      "2      0.247468  \n"
     ]
    }
   ],
   "source": [
    "dfx1,ivx1,cutx1,woex1=mono_bin(trainDf.好坏客户,trainDf.可用额度比值,n=10) #贷款以及信用卡可用额度与总额度比例\n",
    "dfx2,ivx2,cutx2,woex2=mono_bin(trainDf.好坏客户,trainDf.年龄,n=10)   # 年龄\n",
    "dfx4,ivx4,cutx4,woex4=mono_bin(trainDf.好坏客户,trainDf.负债率,n=20)   #负债比率\n",
    "dfx5,ivx5,cutx5,woex5=mono_bin(trainDf.好坏客户,trainDf.月收入,n=10)  #月收入"
   ]
  },
  {
   "cell_type": "code",
   "execution_count": 120,
   "metadata": {},
   "outputs": [],
   "source": [
    "   # 连续变量离散化\n",
    "pinf = float('inf')#正无穷大\n",
    "ninf = float('-inf')#负无穷大\n",
    "cutx3 = [ninf, 0, 1, 3, 5, pinf]\n",
    "cutx6 = [ninf, 1, 2, 3, 5, 7, 9, pinf]   #加了 7，9  \n",
    "cutx7 = [ninf, 0, 1, 3, 5, pinf]\n",
    "cutx8 = [ninf, 0,1,2, 3, pinf]\n",
    "cutx9 = [ninf, 0, 1, 3, pinf]\n",
    "cutx10 = [ninf, 0, 1, 2, 3, 5, pinf]\n",
    " \n",
    "def self_bin(Y,X,cat):#自定义人工分箱函数\n",
    "    good=Y.sum()   #好用户数量\n",
    "    bad=Y.count()-good   # 坏用户数量\n",
    "    d1=pd.DataFrame({'X':X,'Y':Y,'Bucket':pd.cut(X,cat)}) #建立个数据框 X-- 各个特征变量 ， Y--用户好坏标签 ， Bucket--各个分箱\n",
    "    d2=d1.groupby('Bucket', as_index = True)     #  按分箱分组聚合 ，并且社会为 Index\n",
    "    d3 = pd.DataFrame(d2.X.min(), columns=['min'])  #  添加 min 列 ,不用管里面的 d2.X.min()\n",
    "    d3['min'] = d2.min().X    #求每个箱段内 X 比如 家庭人数的最小值\n",
    "    d3['max'] = d2.max().X    #求每个箱段内 X 比如 家庭人数的最大值\n",
    "    d3['sum'] = d2.sum().Y    #求每个箱段内 Y 好客户的个数\n",
    "    d3['total'] = d2.count().Y  #求每个箱段内  总共客户数\n",
    "    d3['rate'] = d2.mean().Y    # 好客户率\n",
    "    #WOE的全称是“Weight of Evidence”，即证据权重。WOE是对原始自变量的一种编码形式。是为了 计算 iv 准备的\n",
    "    #要对一个变量进行WOE编码，需要首先把这个变量进行分组处理（也叫离散化、分箱等等，说的都是一个意思）\n",
    "    d3['woe'] = np.log((d3['rate'] / (1 - d3['rate'])) / (good / bad))   \n",
    "    d3['goodattribute'] = d3['sum'] / good     # 每个箱段内 好用户 占 总好用户数  的 比率\n",
    "    d3['badattribute'] = (d3['total'] - d3['sum']) / bad  # 每个箱段内 坏用户 占 总坏用户数 的 比率\n",
    "    #IV的全称是Information Value，中文意思是信息价值，或者信息量。  通俗的说 就是 变量的预测能力\n",
    "    iv = ((d3['goodattribute'] - d3['badattribute']) * d3['woe']).sum()\n",
    "    d4 = (d3.sort_values(by='min'))   #数据框 的 按 min 升序排列\n",
    "    woe = list(d4['woe'].round(3))\n",
    "    return d4, iv,woe\n",
    "#对他们就行分箱处理：\n",
    " \n",
    "dfx3,ivx3,woex3 = self_bin(trainDf.好坏客户,trainDf['逾期30-59天笔数'], cutx3)\n",
    "dfx6,ivx6 ,woex6= self_bin(trainDf.好坏客户, trainDf['信贷数量'], cutx6)\n",
    "dfx7,ivx7,woex7 = self_bin(trainDf.好坏客户, trainDf['逾期90天笔数'], cutx7)\n",
    "dfx8, ivx8,woex8 = self_bin(trainDf.好坏客户, trainDf['固定资产贷款量'], cutx8)\n",
    "dfx9, ivx9,woex9 = self_bin(trainDf.好坏客户, trainDf['逾期60-89天笔数'], cutx9)\n",
    "dfx10,ivx10,woex10 = self_bin(trainDf.好坏客户, trainDf['家属数量'], cutx10)"
   ]
  },
  {
   "cell_type": "markdown",
   "metadata": {},
   "source": [
    "4.2 相关性分析"
   ]
  },
  {
   "cell_type": "code",
   "execution_count": 121,
   "metadata": {},
   "outputs": [
    {
     "data": {
      "image/png": "[encoded data removed]",
      "text/plain": [
       "<Figure size 432x288 with 2 Axes>"
      ]
     },
     "metadata": {
      "needs_background": "light"
     },
     "output_type": "display_data"
    }
   ],
   "source": [
    "corr = df.corr()#计算各变量的相关性系数\n",
    "xticks = ['x0','x1','x2','x3','x4','x5','x6','x7','x8','x9','x10']#x轴标签\n",
    "yticks = list(corr.index)#y轴标签\n",
    "fig = plt.figure()\n",
    "ax1 = fig.add_subplot(1, 1, 1)\n",
    "sns.heatmap(corr, annot=True, cmap='rainbow', ax=ax1, annot_kws={'size': 9, 'weight': 'bold', 'color': 'blue'})#绘制相关性系数热力图\n",
    "ax1.set_xticklabels(xticks, rotation=0, fontsize=10)\n",
    "ax1.set_yticklabels(yticks, rotation=0, fontsize=10)\n",
    "plt.show()"
   ]
  },
  {
   "cell_type": "code",
   "execution_count": 122,
   "metadata": {},
   "outputs": [
    {
     "data": {
      "image/png": "[encoded data removed]",
      "text/plain": [
       "<Figure size 432x288 with 1 Axes>"
      ]
     },
     "metadata": {
      "needs_background": "light"
     },
     "output_type": "display_data"
    }
   ],
   "source": [
    "ivlist=[ivx1,ivx2,ivx3,ivx4,ivx5,ivx6,ivx7,ivx8,ivx9,ivx10]#各变量IV\n",
    "index=['x1','x2','x3','x4','x5','x6','x7','x8','x9','x10']#x轴的标签\n",
    "fig1 = plt.figure(1)\n",
    "ax1 = fig1.add_subplot(1, 1, 1)\n",
    "x = np.arange(len(index))+1\n",
    "ax1.bar(x, ivlist, width=0.4)#生成柱状图\n",
    "ax1.set_xticks(x)\n",
    "ax1.set_xticklabels(index, rotation=0, fontsize=12)\n",
    "ax1.set_ylabel('IV(Information Value)', fontsize=14)\n",
    "#在柱状图上添加数字标签\n",
    "for a, b in zip(x, ivlist):\n",
    "    plt.text(a, b + 0.01, '%.4f' % b, ha='center', va='bottom', fontsize=10)\n",
    "plt.show()"
   ]
  },
  {
   "cell_type": "markdown",
   "metadata": {},
   "source": [
    "# 五、模型分析"
   ]
  },
  {
   "cell_type": "markdown",
   "metadata": {},
   "source": [
    "5.1 WOE转化"
   ]
  },
  {
   "cell_type": "code",
   "execution_count": 123,
   "metadata": {},
   "outputs": [],
   "source": [
    "#替换成woe函数\n",
    "def trans_woe(var,var_name,woe,cut):\n",
    "    woe_name=var_name+'_woe'\n",
    "    for i in range(len(woe)):       # len(woe) 得到woe里 有多少个数值\n",
    "        if i==0:\n",
    "            var.loc[(var[var_name]<=cut[i+1]),woe_name]=woe[i]  #将woe的值按 cut分箱的下节点，顺序赋值给var的woe_name 列 ，分箱的第一段\n",
    "        elif (i>0) and  (i<=len(woe)-2):\n",
    "            var.loc[((var[var_name]>cut[i])&(var[var_name]<=cut[i+1])),woe_name]=woe[i] #    中间的分箱区间   ，，数手指头就很清楚了\n",
    "        else:\n",
    "            var.loc[(var[var_name]>cut[len(woe)-1]),woe_name]=woe[len(woe)-1]   # 大于最后一个分箱区间的 上限值，最后一个值是正无穷\n",
    "    return var"
   ]
  },
  {
   "cell_type": "code",
   "execution_count": 124,
   "metadata": {},
   "outputs": [],
   "source": [
    "x1_name='可用额度比值'\n",
    "x2_name='年龄'\n",
    "x3_name='逾期30-59天笔数'\n",
    "x7_name='逾期90天笔数'\n",
    "x9_name='逾期60-89天笔数'"
   ]
  },
  {
   "cell_type": "code",
   "execution_count": 125,
   "metadata": {},
   "outputs": [],
   "source": [
    "trainDf=trans_woe(trainDf,x1_name,woex1,cutx1)\n",
    "trainDf=trans_woe(trainDf,x2_name,woex2,cutx2)\n",
    "trainDf=trans_woe(trainDf,x3_name,woex3,cutx3)\n",
    "trainDf=trans_woe(trainDf,x7_name,woex7,cutx7)\n",
    "trainDf=trans_woe(trainDf,x9_name,woex9,cutx9)"
   ]
  },
  {
   "cell_type": "code",
   "execution_count": 126,
   "metadata": {},
   "outputs": [
    {
     "data": {
      "text/html": [
       "<div>\n",
       "<style scoped>\n",
       "    .dataframe tbody tr th:only-of-type {\n",
       "        vertical-align: middle;\n",
       "    }\n",
       "\n",
       "    .dataframe tbody tr th {\n",
       "        vertical-align: top;\n",
       "    }\n",
       "\n",
       "    .dataframe thead th {\n",
       "        text-align: right;\n",
       "    }\n",
       "</style>\n",
       "<table border=\"1\" class=\"dataframe\">\n",
       "  <thead>\n",
       "    <tr style=\"text-align: right;\">\n",
       "      <th></th>\n",
       "      <th>可用额度比值_woe</th>\n",
       "      <th>年龄_woe</th>\n",
       "      <th>逾期30-59天笔数_woe</th>\n",
       "      <th>逾期90天笔数_woe</th>\n",
       "      <th>逾期60-89天笔数_woe</th>\n",
       "    </tr>\n",
       "  </thead>\n",
       "  <tbody>\n",
       "    <tr>\n",
       "      <td>0</td>\n",
       "      <td>1.193</td>\n",
       "      <td>-0.391</td>\n",
       "      <td>0.526</td>\n",
       "      <td>0.379</td>\n",
       "      <td>0.274</td>\n",
       "    </tr>\n",
       "    <tr>\n",
       "      <td>1</td>\n",
       "      <td>0.298</td>\n",
       "      <td>-0.199</td>\n",
       "      <td>0.526</td>\n",
       "      <td>0.379</td>\n",
       "      <td>0.274</td>\n",
       "    </tr>\n",
       "    <tr>\n",
       "      <td>2</td>\n",
       "      <td>1.193</td>\n",
       "      <td>0.491</td>\n",
       "      <td>0.526</td>\n",
       "      <td>0.379</td>\n",
       "      <td>0.274</td>\n",
       "    </tr>\n",
       "    <tr>\n",
       "      <td>3</td>\n",
       "      <td>1.193</td>\n",
       "      <td>0.935</td>\n",
       "      <td>0.526</td>\n",
       "      <td>0.379</td>\n",
       "      <td>0.274</td>\n",
       "    </tr>\n",
       "    <tr>\n",
       "      <td>4</td>\n",
       "      <td>1.283</td>\n",
       "      <td>1.123</td>\n",
       "      <td>0.526</td>\n",
       "      <td>0.379</td>\n",
       "      <td>0.274</td>\n",
       "    </tr>\n",
       "  </tbody>\n",
       "</table>\n",
       "</div>"
      ],
      "text/plain": [
       "   可用额度比值_woe  年龄_woe  逾期30-59天笔数_woe  逾期90天笔数_woe  逾期60-89天笔数_woe\n",
       "0       1.193  -0.391           0.526        0.379           0.274\n",
       "1       0.298  -0.199           0.526        0.379           0.274\n",
       "2       1.193   0.491           0.526        0.379           0.274\n",
       "3       1.193   0.935           0.526        0.379           0.274\n",
       "4       1.283   1.123           0.526        0.379           0.274"
      ]
     },
     "execution_count": 126,
     "metadata": {},
     "output_type": "execute_result"
    }
   ],
   "source": [
    "Y=trainDf['好坏客户']   #因变量\n",
    "#自变量，剔除对因变量影响不明显的变量\n",
    "X=trainDf.iloc[:,-5:]\n",
    "X.head()"
   ]
  },
  {
   "cell_type": "markdown",
   "metadata": {},
   "source": [
    "5.2  STATSMODEL包来建立逻辑回归模型"
   ]
  },
  {
   "cell_type": "code",
   "execution_count": 127,
   "metadata": {},
   "outputs": [
    {
     "name": "stderr",
     "output_type": "stream",
     "text": [
      "D:\\Users\\32661\\Anaconda3\\lib\\site-packages\\numpy\\core\\fromnumeric.py:2389: FutureWarning: Method .ptp is deprecated and will be removed in a future version. Use numpy.ptp instead.\n",
      "  return ptp(axis=axis, out=out, **kwargs)\n"
     ]
    },
    {
     "name": "stdout",
     "output_type": "stream",
     "text": [
      "Optimization terminated successfully.\n",
      "         Current function value: 0.186491\n",
      "         Iterations 8\n",
      "                           Logit Regression Results                           \n",
      "==============================================================================\n",
      "Dep. Variable:                   好坏客户   No. Observations:               101747\n",
      "Model:                          Logit   Df Residuals:                   101741\n",
      "Method:                           MLE   Df Model:                            5\n",
      "Date:                Tue, 25 Aug 2020   Pseudo R-squ.:                  0.2410\n",
      "Time:                        05:58:01   Log-Likelihood:                -18975.\n",
      "converged:                       True   LL-Null:                       -25000.\n",
      "Covariance Type:            nonrobust   LLR p-value:                     0.000\n",
      "==================================================================================\n",
      "                     coef    std err          z      P>|z|      [0.025      0.975]\n",
      "----------------------------------------------------------------------------------\n",
      "const              2.6084      0.015    171.840      0.000       2.579       2.638\n",
      "可用额度比值_woe         0.6327      0.016     40.537      0.000       0.602       0.663\n",
      "年龄_woe             0.5151      0.032     16.021      0.000       0.452       0.578\n",
      "逾期30-59天笔数_woe     0.5520      0.016     35.274      0.000       0.521       0.583\n",
      "逾期90天笔数_woe        0.5747      0.013     42.741      0.000       0.548       0.601\n",
      "逾期60-89天笔数_woe     0.4074      0.017     23.652      0.000       0.374       0.441\n",
      "==================================================================================\n"
     ]
    }
   ],
   "source": [
    "X1=sm.add_constant(X)\n",
    "logit=sm.Logit(Y,X1)\n",
    "result=logit.fit()\n",
    "print(result.summary())"
   ]
  },
  {
   "cell_type": "markdown",
   "metadata": {},
   "source": [
    "6.3 模型检验"
   ]
  },
  {
   "cell_type": "code",
   "execution_count": 128,
   "metadata": {},
   "outputs": [
    {
     "data": {
      "image/png": "[encoded data removed]",
      "text/plain": [
       "<Figure size 576x360 with 1 Axes>"
      ]
     },
     "metadata": {
      "needs_background": "light"
     },
     "output_type": "display_data"
    }
   ],
   "source": [
    "testDf=trans_woe(testDf,x1_name,woex1,cutx1)\n",
    "testDf=trans_woe(testDf,x2_name,woex2,cutx2)\n",
    "testDf=trans_woe(testDf,x3_name,woex3,cutx3)\n",
    "testDf=trans_woe(testDf,x7_name,woex7,cutx7)\n",
    "testDf=trans_woe(testDf,x9_name,woex9,cutx9)\n",
    "#构建测试集的特征和标签\n",
    "test_X=testDf.iloc[:,-5:]   #测试数据 特征\n",
    "test_Y=testDf.iloc[:,0]     #测试数据  标签\n",
    "\n",
    "#评估\n",
    "from sklearn import metrics\n",
    "X3=sm.add_constant(test_X)\n",
    "resu = result.predict(X3)    #进行预测\n",
    "fpr,tpr,threshold=metrics.roc_curve(test_Y,resu)   #评估算法\n",
    "rocauc=metrics.auc(fpr,tpr)   #计算AUC\n",
    "\n",
    "plt.figure(figsize=(8,5))  #只能在这里面设置\n",
    "plt.plot(fpr,tpr,'b',label='AUC=%0.2f'% rocauc)\n",
    "plt.legend(loc='lower right',fontsize=14)\n",
    "plt.plot([0, 1], [0, 1], 'r--')\n",
    "plt.xlim([0, 1])\n",
    "plt.ylim([0, 1])\n",
    "plt.xticks(fontsize=14)\n",
    "plt.yticks(fontsize=14)\n",
    "plt.ylabel('TPR-真正率',fontsize=16)\n",
    "plt.xlabel('FPR-假正率',fontsize=16)\n",
    "plt.show()"
   ]
  },
  {
   "cell_type": "markdown",
   "metadata": {},
   "source": [
    "# 六、信用评分"
   ]
  },
  {
   "cell_type": "markdown",
   "metadata": {},
   "source": [
    "6.1 评分标准"
   ]
  },
  {
   "cell_type": "code",
   "execution_count": 129,
   "metadata": {},
   "outputs": [],
   "source": [
    "p=20/np.log(2)#比例因子\n",
    "q=600-20*np.log(20)/np.log(2)#等于offset,偏移量\n",
    "x_coe=[2.6084,0.6327,0.5151,0.5520,0.5747,0.4074]#回归系数  \n",
    "baseScore=round(q+p*x_coe[0],0)"
   ]
  },
  {
   "cell_type": "markdown",
   "metadata": {},
   "source": [
    "6.2 部分评分"
   ]
  },
  {
   "cell_type": "code",
   "execution_count": 130,
   "metadata": {},
   "outputs": [],
   "source": [
    "#计算分数函数\n",
    "def get_score(coe,woe,factor):\n",
    "    scores=[]\n",
    "    for w in woe:\n",
    "        score=round(coe*w*factor,0)\n",
    "        scores.append(score)\n",
    "    return scores"
   ]
  },
  {
   "cell_type": "code",
   "execution_count": 131,
   "metadata": {},
   "outputs": [],
   "source": [
    "# 各项部分分数\n",
    "x1=get_score(x_coe[1],woex1,p)\n",
    "x2=get_score(x_coe[2],woex2,p)\n",
    "x3=get_score(x_coe[3],woex3,p)\n",
    "x7=get_score(x_coe[4],woex7,p)\n",
    "x9=get_score(x_coe[5],woex9,p)"
   ]
  },
  {
   "cell_type": "markdown",
   "metadata": {},
   "source": [
    "# 自动评分系统"
   ]
  },
  {
   "cell_type": "code",
   "execution_count": 132,
   "metadata": {},
   "outputs": [],
   "source": [
    "#根据变量计算分数\n",
    "def compute_score(series,cut,score):\n",
    "    list = []\n",
    "    i = 0\n",
    "    while i < len(series):\n",
    "        value = series[i]\n",
    "        j = len(cut) - 2\n",
    "        m = len(cut) - 2\n",
    "        while j >= 0:\n",
    "            if value >= cut[j]:\n",
    "                j = -1\n",
    "            else:\n",
    "                j -= 1\n",
    "                m -= 1\n",
    "        list.append(score[m])\n",
    "        i += 1\n",
    "    return list"
   ]
  },
  {
   "cell_type": "code",
   "execution_count": 133,
   "metadata": {},
   "outputs": [],
   "source": [
    "test1 = pd.read_csv(address3)\n",
    "test1['BaseScore']=Series(np.zeros(len(test1)))+baseScore\n",
    "test1['x1'] = Series(compute_score(test1['可用额度比值'], cutx1, x1))\n",
    "test1['x2'] = Series(compute_score(test1['年龄'], cutx2, x2))\n",
    "test1['x3'] = Series(compute_score(test1['逾期30-59天笔数'], cutx3, x3))\n",
    "test1['x7'] = Series(compute_score(test1['逾期90天笔数'], cutx7, x7))\n",
    "test1['x9'] = Series(compute_score(test1['逾期60-89天笔数'], cutx9, x9))\n",
    "test1['Score'] = test1['x1'] + test1['x2'] + test1['x3'] + test1['x7'] +test1['x9']  + baseScore"
   ]
  },
  {
   "cell_type": "code",
   "execution_count": 134,
   "metadata": {},
   "outputs": [
    {
     "data": {
      "text/html": [
       "<div>\n",
       "<style scoped>\n",
       "    .dataframe tbody tr th:only-of-type {\n",
       "        vertical-align: middle;\n",
       "    }\n",
       "\n",
       "    .dataframe tbody tr th {\n",
       "        vertical-align: top;\n",
       "    }\n",
       "\n",
       "    .dataframe thead th {\n",
       "        text-align: right;\n",
       "    }\n",
       "</style>\n",
       "<table border=\"1\" class=\"dataframe\">\n",
       "  <thead>\n",
       "    <tr style=\"text-align: right;\">\n",
       "      <th></th>\n",
       "      <th>可用额度比值</th>\n",
       "      <th>BaseScore</th>\n",
       "      <th>x1</th>\n",
       "      <th>x2</th>\n",
       "      <th>x3</th>\n",
       "      <th>x7</th>\n",
       "      <th>x9</th>\n",
       "      <th>Score</th>\n",
       "    </tr>\n",
       "  </thead>\n",
       "  <tbody>\n",
       "    <tr>\n",
       "      <td>0</td>\n",
       "      <td>0.116603</td>\n",
       "      <td>589.0</td>\n",
       "      <td>22.0</td>\n",
       "      <td>-4.0</td>\n",
       "      <td>-14.0</td>\n",
       "      <td>-33.0</td>\n",
       "      <td>-22.0</td>\n",
       "      <td>538.0</td>\n",
       "    </tr>\n",
       "    <tr>\n",
       "      <td>1</td>\n",
       "      <td>0.411956</td>\n",
       "      <td>589.0</td>\n",
       "      <td>5.0</td>\n",
       "      <td>-3.0</td>\n",
       "      <td>-14.0</td>\n",
       "      <td>-33.0</td>\n",
       "      <td>-22.0</td>\n",
       "      <td>522.0</td>\n",
       "    </tr>\n",
       "    <tr>\n",
       "      <td>2</td>\n",
       "      <td>0.096891</td>\n",
       "      <td>589.0</td>\n",
       "      <td>22.0</td>\n",
       "      <td>7.0</td>\n",
       "      <td>-14.0</td>\n",
       "      <td>-33.0</td>\n",
       "      <td>-22.0</td>\n",
       "      <td>549.0</td>\n",
       "    </tr>\n",
       "    <tr>\n",
       "      <td>3</td>\n",
       "      <td>0.046594</td>\n",
       "      <td>589.0</td>\n",
       "      <td>22.0</td>\n",
       "      <td>14.0</td>\n",
       "      <td>-14.0</td>\n",
       "      <td>-33.0</td>\n",
       "      <td>-22.0</td>\n",
       "      <td>556.0</td>\n",
       "    </tr>\n",
       "    <tr>\n",
       "      <td>4</td>\n",
       "      <td>0.015649</td>\n",
       "      <td>589.0</td>\n",
       "      <td>23.0</td>\n",
       "      <td>17.0</td>\n",
       "      <td>-14.0</td>\n",
       "      <td>-33.0</td>\n",
       "      <td>-22.0</td>\n",
       "      <td>560.0</td>\n",
       "    </tr>\n",
       "  </tbody>\n",
       "</table>\n",
       "</div>"
      ],
      "text/plain": [
       "     可用额度比值  BaseScore    x1    x2    x3    x7    x9  Score\n",
       "0  0.116603      589.0  22.0  -4.0 -14.0 -33.0 -22.0  538.0\n",
       "1  0.411956      589.0   5.0  -3.0 -14.0 -33.0 -22.0  522.0\n",
       "2  0.096891      589.0  22.0   7.0 -14.0 -33.0 -22.0  549.0\n",
       "3  0.046594      589.0  22.0  14.0 -14.0 -33.0 -22.0  556.0\n",
       "4  0.015649      589.0  23.0  17.0 -14.0 -33.0 -22.0  560.0"
      ]
     },
     "execution_count": 134,
     "metadata": {},
     "output_type": "execute_result"
    }
   ],
   "source": [
    "scoretable1=test1.iloc[:,[1,-7,-6,-5,-4,-3,-2,-1]]  #选取需要的列，就是评分列\n",
    "scoretable1.head()"
   ]
  },
  {
   "cell_type": "code",
   "execution_count": 135,
   "metadata": {},
   "outputs": [],
   "source": [
    "colNameDict={'x1': 'RevolvingUtilizationOfUnsecuredLines' ,'x2':'age','x3':'NumberOfTime30-59DaysPastDueNotWorse',\n",
    "             'x7':'NumberOfTimes90DaysLate', 'x9':'NumberOfTime60-89DaysPastDueNotWorse'}\n",
    "scoretable2=scoretable1.rename(columns=colNameDict,inplace=False)"
   ]
  },
  {
   "cell_type": "code",
   "execution_count": 136,
   "metadata": {},
   "outputs": [],
   "source": [
    "test1.to_csv(address5, index=False)"
   ]
  },
  {
   "cell_type": "code",
   "execution_count": null,
   "metadata": {},
   "outputs": [],
   "source": []
  }
 ],
 "metadata": {
  "kernelspec": {
   "display_name": "Python 3",
   "language": "python",
   "name": "python3"
  },
  "language_info": {
   "codemirror_mode": {
    "name": "ipython",
    "version": 3
   },
   "file_extension": ".py",
   "mimetype": "text/x-python",
   "name": "python",
   "nbconvert_exporter": "python",
   "pygments_lexer": "ipython3",
   "version": "3.7.4"
  }
 },
 "nbformat": 4,
 "nbformat_minor": 2
}
